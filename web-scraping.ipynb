{
 "cells": [
  {
   "metadata": {},
   "cell_type": "markdown",
   "source": "# Web scraping",
   "id": "f10300dbbba3e23a"
  },
  {
   "metadata": {},
   "cell_type": "markdown",
   "source": [
    "## ¿Qué es?\n",
    "Consiste en el proceso de extraer información de sitios web de forma automatizada, el nombre se debe a que se utlizan programas scripts capaces de acceder a uno o varios sitios o páginas web, identifican las estructuras del contenido, extraen y almacenan la información deseada en una forma útil para futuros análisis, sus principales usos se encuentran en la investigación de mercado, crear sitios o aplicaciones que reúnan datos de distintas fuentes, obtener grandes volúmenes de información para ser posteriormente analizados, entre toros."
   ],
   "id": "1b9e3fe261ede689"
  },
  {
   "metadata": {},
   "cell_type": "markdown",
   "source": "## Realizar una prueba en python para dos librerías diferentes",
   "id": "7f042d6ac39f65f4"
  },
  {
   "metadata": {},
   "cell_type": "markdown",
   "source": [
    "### Requests y BeautifulSoup\n",
    "La librería Requests es una librería que permite enviar solicitudes HTTP, por lo que habilitará la interacción con el contenido de páginas web, mientras que la librería BeautifulSoup permite la extracción de datos HTML y XML por lo que se utilizará para mostrar los resultados de las solicitudes realizadas.\n"
   ],
   "id": "3e4f744c9dca719c"
  },
  {
   "metadata": {
    "ExecuteTime": {
     "end_time": "2025-01-07T23:57:33.350736Z",
     "start_time": "2025-01-07T23:57:32.756679Z"
    }
   },
   "cell_type": "code",
   "source": [
    "import requests\n",
    "from bs4 import BeautifulSoup\n",
    "url = \"https://www.chess.com/\"\n",
    "try:\n",
    "    response = requests.get(url)\n",
    "    response.raise_for_status()\n",
    "    soup = BeautifulSoup(response.text, \"html.parser\")\n",
    "    titulo = soup.find(\"title\").text\n",
    "    print(\"Título de la página:\", titulo)\n",
    "    enlaces = soup.find_all(\"a\")\n",
    "    for enlace in enlaces:\n",
    "        texto = enlace.text.strip()\n",
    "        url_enlace = enlace.get(\"href\")\n",
    "        print(f\"Enlace: {texto} -> {url_enlace}\")\n",
    "except requests.exceptions.RequestException as e:\n",
    "    print(\"Error durante la petición:\", e)\n"
   ],
   "id": "26da318db200dae0",
   "outputs": [
    {
     "name": "stdout",
     "output_type": "stream",
     "text": [
      "Título de la página: Chess.com - Play Chess Online - Free Games\n",
      "Enlace: Home -> https://www.chess.com/\n",
      "Enlace: Play -> https://www.chess.com/play\n",
      "Enlace: Puzzles -> https://www.chess.com/puzzles/rated\n",
      "Enlace: Learn -> https://www.chess.com/learn\n",
      "Enlace: Watch -> https://www.chess.com/watch\n",
      "Enlace: News -> https://www.chess.com/today\n",
      "Enlace: Social -> https://www.chess.com/social\n",
      "Enlace:  -> https://www.chess.com/search\n",
      "Enlace: Sign Up -> https://www.chess.com/register?returnUrl=https://www.chess.com/\n",
      "Enlace: Log In -> https://www.chess.com/login_and_go?returnUrl=https://www.chess.com/\n",
      "Enlace:  -> https://www.chess.com/\n",
      "Enlace: Sign Up -> https://www.chess.com/register?returnUrl=https://www.chess.com/\n",
      "Enlace: Log In -> https://www.chess.com/login_and_go?returnUrl=https://www.chess.com/\n",
      "Enlace: Play Bots\n",
      "                                  \n",
      "Play vs customizable training bots -> https://www.chess.com/play/computer\n",
      "Enlace:  -> https://www.chess.com/puzzles/rated\n",
      "Enlace: Solve Puzzles -> https://www.chess.com/puzzles/rated\n",
      "Enlace:  -> https://www.chess.com/lessons\n",
      "Enlace: Start Lessons -> https://www.chess.com/lessons\n",
      "Enlace: Follow the 2024 FIDE World Championship LIVE with the BEST coverage. -> https://www.chess.com/events/2024-fide-chess-world-championship\n",
      "Enlace: Fedoseev, Lazavik, Sindarov, Bortnyk Keep Weissenhaus Hopes Alive\n",
      "\n",
      "    \n",
      "    Colin_McGourty -> https://www.chess.com/news/view/2025-freestyle-chess-grand-slam-weissenhaus-play-in-day-1\n",
      "Enlace: It's Tactics Time! The Chess.com Puzzles Championship Starts On January 16\n",
      "\n",
      "    \n",
      "    CHESScom -> https://www.chess.com/news/view/announcing-chesscom-puzzles-championship-2025\n",
      "Enlace: Queen Sacrifices: From Obvious To Impossible\n",
      "\n",
      "    \n",
      "    Gserper -> https://www.chess.com/article/view/queen-sacrifices-from-obvious-to-impossible\n",
      "Enlace: Rare Fourth Moves\n",
      "\n",
      "GM\n",
      "    \n",
      "    JanistanTV -> https://www.chess.com/video/player/rare-fourth-moves\n",
      "Enlace: Chess Today -> https://www.chess.com/today\n",
      "Enlace: Support -> https://chess.com/support\n",
      "Enlace: Chess Terms -> https://www.chess.com/terms\n",
      "Enlace: About -> https://www.chess.com/about\n",
      "Enlace: Jobs -> https://www.chess.com/jobs\n",
      "Enlace: Developers -> https://www.chess.com/club/chess-com-developer-community\n",
      "Enlace: User Agreement -> https://www.chess.com/legal/user-agreement\n",
      "Enlace: Privacy Policy -> https://www.chess.com/legal/privacy\n",
      "Enlace: Privacy Settings -> https://www.chess.com/legal/privacy#privacy_settings\n",
      "Enlace: Fair Play -> https://www.chess.com/fair-play\n",
      "Enlace: Partners -> https://www.chess.com/partners\n",
      "Enlace: Compliance -> https://www.chess.com/legal/compliance\n",
      "Enlace: Chess.com © 2025 -> https://www.chess.com/\n",
      "Enlace:  -> https://www.chess.com/play/apps/ios\n",
      "Enlace:  -> https://www.chess.com/play/apps/android\n",
      "Enlace:  -> https://www.tiktok.com/@chess\n",
      "Enlace:  -> https://twitter.com/chesscom\n",
      "Enlace:  -> https://www.youtube.com/user/wwwChesscom\n",
      "Enlace:  -> https://www.twitch.tv/chess\n",
      "Enlace:  -> https://www.instagram.com/wwwchesscom\n",
      "Enlace:  -> https://discord.gg/3VbUQME\n"
     ]
    }
   ],
   "execution_count": 10
  },
  {
   "metadata": {},
   "cell_type": "markdown",
   "source": [
    "## Selenium\n",
    "Selenium es un entorno de pruebas de software cuyo objetivo es validar aplicaciones web, por lo que permite controlar navegadores imitando el comportamiento humano.\n"
   ],
   "id": "99bec2e8c701e2ea"
  },
  {
   "metadata": {},
   "cell_type": "code",
   "outputs": [],
   "execution_count": null,
   "source": "",
   "id": "82b1c36cf3854bab"
  },
  {
   "metadata": {
    "ExecuteTime": {
     "end_time": "2025-01-08T00:09:31.370022Z",
     "start_time": "2025-01-08T00:09:25.189789Z"
    }
   },
   "cell_type": "code",
   "source": [
    "from selenium import webdriver\n",
    "from selenium.webdriver.common.by import By\n",
    "import time\n",
    "driver = webdriver.Chrome()\n",
    "driver.get(\"https://www.chess.com/\")\n",
    "time.sleep(2)\n",
    "titulo = driver.find_element(By.TAG_NAME, \"title\").get_attribute(\"innerText\")\n",
    "print(\"Título de la página (Selenium):\", titulo)\n",
    "try:\n",
    "    elemento_h1 = driver.find_element(By.TAG_NAME, \"h1\")\n",
    "    print(\"Texto dentro de <h1>:\", elemento_h1.text)\n",
    "except:\n",
    "    print(\"No se encontró ningún elemento <h1> en la página.\")\n",
    "driver.quit()\n"
   ],
   "id": "48126a73b930f9f1",
   "outputs": [
    {
     "name": "stdout",
     "output_type": "stream",
     "text": [
      "Título de la página (Selenium): Chess.com - Play Chess Online - Free Games\n",
      "Texto dentro de <h1>: Play Chess\n",
      "Online\n",
      "on the #1 Site!\n"
     ]
    }
   ],
   "execution_count": 12
  },
  {
   "metadata": {},
   "cell_type": "markdown",
   "source": "## Realizar scraping de un sitio web de su elección",
   "id": "3f236a362bc119b1"
  },
  {
   "metadata": {
    "ExecuteTime": {
     "end_time": "2025-01-08T00:29:00.965862Z",
     "start_time": "2025-01-08T00:28:56.185716Z"
    }
   },
   "cell_type": "code",
   "source": [
    "from selenium import webdriver\n",
    "from selenium.webdriver.common.by import By\n",
    "driver = webdriver.Chrome()\n",
    "driver.get(\"https://aulasvirtuales.epn.edu.ec/login/index.php\")\n",
    "results = {}\n",
    "try:\n",
    "    results['title'] = driver.title\n",
    "    headers = driver.find_elements(By.XPATH, \"//h1 | //h2 | //h3\")\n",
    "    results['headers'] = [header.text for header in headers if header.text]\n",
    "    links = driver.find_elements(By.TAG_NAME, \"a\")\n",
    "    results['links'] = [link.get_attribute('href') for link in links if link.get_attribute('href')]\n",
    "    images = driver.find_elements(By.TAG_NAME, \"img\")\n",
    "    results['images'] = [img.get_attribute('src') for img in images if img.get_attribute('src')]\n",
    "    body_text = driver.find_element(By.TAG_NAME, \"body\").text\n",
    "    results['body_text_sample'] = body_text[:1000] \n",
    "    for key, value in results.items():\n",
    "        print(f\"{key}:\")\n",
    "        if isinstance(value, list):\n",
    "            print(f\"  {value[:5]}...\")  \n",
    "        else:\n",
    "            print(f\"  {value}\")\n",
    "        print(\"\\n\")\n",
    "\n",
    "finally:\n",
    "    driver.quit()\n"
   ],
   "id": "7e4e498b7c19f1f6",
   "outputs": [
    {
     "name": "stdout",
     "output_type": "stream",
     "text": [
      "title:\n",
      "  Aula Virtual - EPN: Log in to the site\n",
      "\n",
      "\n",
      "headers:\n",
      "  []...\n",
      "\n",
      "\n",
      "links:\n",
      "  ['https://aulasvirtuales.epn.edu.ec/login/index.php#maincontent', 'https://aulasvirtuales.epn.edu.ec/course/search.php', 'https://aulasvirtuales.epn.edu.ec/login/index.php#', 'https://aulasvirtuales.epn.edu.ec/login/index.php?lang=en', 'https://aulasvirtuales.epn.edu.ec/login/index.php?lang=es']...\n",
      "\n",
      "\n",
      "images:\n",
      "  ['https://aulasvirtuales.epn.edu.ec/LOGO_EPN1.svg']...\n",
      "\n",
      "\n",
      "body_text_sample:\n",
      "  Skip to main content\n",
      "English (es)\n",
      "   Preguntas Frecuentes\n",
      "Username\n",
      "Password\n",
      "Remember username\n",
      "Log in\n",
      "asistencia.tecnica@epn.edu.ec\n",
      "(+593) 2 2976 300 ext 1402 / 1404\n",
      "Escuela Politécnica Nacional  © Todos los Derechos Reservados.2024\n",
      "\n",
      "\n"
     ]
    }
   ],
   "execution_count": 15
  }
 ],
 "metadata": {
  "kernelspec": {
   "display_name": "Python 3",
   "language": "python",
   "name": "python3"
  },
  "language_info": {
   "codemirror_mode": {
    "name": "ipython",
    "version": 2
   },
   "file_extension": ".py",
   "mimetype": "text/x-python",
   "name": "python",
   "nbconvert_exporter": "python",
   "pygments_lexer": "ipython2",
   "version": "2.7.6"
  }
 },
 "nbformat": 4,
 "nbformat_minor": 5
}
